{
 "cells": [
  {
   "cell_type": "code",
   "execution_count": 1,
   "id": "f6603a56-4f59-4818-ac59-9681bc3ba578",
   "metadata": {},
   "outputs": [],
   "source": [
    "import json"
   ]
  },
  {
   "cell_type": "code",
   "execution_count": 2,
   "id": "73aebff4-dd69-4221-8350-517a77334cf5",
   "metadata": {},
   "outputs": [],
   "source": [
    "path = 'vendas.json'"
   ]
  },
  {
   "cell_type": "code",
   "execution_count": 3,
   "id": "ffa39cbc-bca1-462a-a176-b433c9768146",
   "metadata": {},
   "outputs": [],
   "source": [
    "def open_json(path):\n",
    "    with open(path, 'r') as file:\n",
    "        sales = json.load(file)\n",
    "    return sales"
   ]
  },
  {
   "cell_type": "code",
   "execution_count": 26,
   "id": "44c5cf53-7a4b-4dd7-9553-b146bb65ec43",
   "metadata": {},
   "outputs": [],
   "source": [
    "dados = open_json(path)"
   ]
  },
  {
   "cell_type": "code",
   "execution_count": 18,
   "id": "6949052a-e420-41f1-b44d-70638fe175b2",
   "metadata": {},
   "outputs": [],
   "source": [
    "year_manufacture = []\n",
    "\n",
    "for i in dados:\n",
    "    year = i[\"ano_fabricacao\"]\n",
    "    if year not in year_manufacture:\n",
    "        year_manufacture.append(year)\n",
    "    "
   ]
  },
  {
   "cell_type": "code",
   "execution_count": 24,
   "id": "a3b64119-d5f7-4f28-a866-9cc42285593d",
   "metadata": {},
   "outputs": [
    {
     "name": "stdout",
     "output_type": "stream",
     "text": [
      "[2018, 2019, 2020, 2021, 2022, 2023]\n"
     ]
    }
   ],
   "source": [
    "year_manufacture.sort(reverse=False)"
   ]
  },
  {
   "cell_type": "code",
   "execution_count": 31,
   "id": "89cef51e-66d3-491d-a24b-0909fb1cfde8",
   "metadata": {},
   "outputs": [
    {
     "name": "stdout",
     "output_type": "stream",
     "text": [
      "Ano - 2018\n",
      "valor total de vendas do Produto: Boné é R$3693.9\n",
      "valor total de vendas do Produto: Tênis é R$1514.0\n",
      "valor total de vendas do Produto: Camiseta é R$1748.7600000000002\n",
      "valor total de vendas do Produto: Tênis é R$3527.48\n",
      "valor total de vendas do Produto: Calça é R$583.26\n",
      "valor total de vendas do Produto: Calça é R$1193.44\n",
      "valor total de vendas do Produto: Jaqueta é R$3979.8\n",
      "valor total de vendas do Produto: Tênis é R$34.77\n",
      "valor total de vendas do Produto: Jaqueta é R$2368.17\n",
      "valor total de vendas do Produto: Boné é R$337.77\n",
      "valor total de vendas do Produto: Tênis é R$252.96\n",
      "valor total de vendas do Produto: Camiseta é R$643.95\n",
      "valor total de vendas do Produto: Tênis é R$1248.39\n",
      "valor total de vendas do Produto: Tênis é R$523.3199999999999\n",
      "------------------------------\n",
      "Ano - 2019\n",
      "valor total de vendas do Produto: Jaqueta é R$325.02\n",
      "valor total de vendas do Produto: Boné é R$651.2\n",
      "valor total de vendas do Produto: Calça é R$534.24\n",
      "valor total de vendas do Produto: Jaqueta é R$3371.69\n",
      "valor total de vendas do Produto: Camiseta é R$1452.96\n",
      "valor total de vendas do Produto: Tênis é R$1932.58\n",
      "valor total de vendas do Produto: Tênis é R$530.8199999999999\n",
      "valor total de vendas do Produto: Boné é R$798.4000000000001\n",
      "valor total de vendas do Produto: Calça é R$2988.96\n",
      "valor total de vendas do Produto: Camiseta é R$2200.8\n",
      "valor total de vendas do Produto: Camiseta é R$1545.08\n",
      "valor total de vendas do Produto: Tênis é R$2546.6000000000004\n",
      "valor total de vendas do Produto: Calça é R$4219.39\n",
      "valor total de vendas do Produto: Camiseta é R$333.5\n",
      "valor total de vendas do Produto: Jaqueta é R$2582.18\n",
      "valor total de vendas do Produto: Jaqueta é R$3924.0600000000004\n",
      "valor total de vendas do Produto: Tênis é R$1145.17\n",
      "valor total de vendas do Produto: Camiseta é R$261.12\n",
      "valor total de vendas do Produto: Calça é R$34.410000000000004\n",
      "------------------------------\n",
      "Ano - 2020\n",
      "valor total de vendas do Produto: Camiseta é R$1210.49\n",
      "valor total de vendas do Produto: Camiseta é R$1715.8\n",
      "valor total de vendas do Produto: Camiseta é R$3781.83\n",
      "valor total de vendas do Produto: Tênis é R$1626.57\n",
      "valor total de vendas do Produto: Jaqueta é R$1450.08\n",
      "valor total de vendas do Produto: Camiseta é R$1377.6000000000001\n",
      "valor total de vendas do Produto: Boné é R$1188.66\n",
      "valor total de vendas do Produto: Boné é R$1553.0\n",
      "valor total de vendas do Produto: Tênis é R$968.6199999999999\n",
      "valor total de vendas do Produto: Calça é R$956.55\n",
      "valor total de vendas do Produto: Tênis é R$1394.68\n",
      "valor total de vendas do Produto: Tênis é R$186.9\n",
      "valor total de vendas do Produto: Boné é R$560.07\n",
      "valor total de vendas do Produto: Camiseta é R$2444.98\n",
      "valor total de vendas do Produto: Jaqueta é R$1761.2\n",
      "valor total de vendas do Produto: Camiseta é R$2551.2\n",
      "valor total de vendas do Produto: Camiseta é R$626.8\n",
      "valor total de vendas do Produto: Boné é R$157.84\n",
      "valor total de vendas do Produto: Tênis é R$611.0300000000001\n",
      "------------------------------\n",
      "Ano - 2021\n",
      "valor total de vendas do Produto: Jaqueta é R$3705.3900000000003\n",
      "valor total de vendas do Produto: Camiseta é R$1120.77\n",
      "valor total de vendas do Produto: Boné é R$1291.84\n",
      "valor total de vendas do Produto: Camiseta é R$819.6\n",
      "valor total de vendas do Produto: Calça é R$95.94\n",
      "valor total de vendas do Produto: Tênis é R$3747.7799999999997\n",
      "valor total de vendas do Produto: Camiseta é R$1517.67\n",
      "valor total de vendas do Produto: Tênis é R$1658.22\n",
      "valor total de vendas do Produto: Tênis é R$78.39\n",
      "valor total de vendas do Produto: Calça é R$414.57000000000005\n",
      "valor total de vendas do Produto: Tênis é R$462.84000000000003\n",
      "valor total de vendas do Produto: Boné é R$1323.9\n",
      "valor total de vendas do Produto: Camiseta é R$1289.92\n",
      "valor total de vendas do Produto: Tênis é R$406.0\n",
      "valor total de vendas do Produto: Calça é R$175.74\n",
      "valor total de vendas do Produto: Jaqueta é R$417.3\n",
      "------------------------------\n",
      "Ano - 2022\n",
      "valor total de vendas do Produto: Tênis é R$967.3399999999999\n",
      "valor total de vendas do Produto: Boné é R$333.62\n",
      "valor total de vendas do Produto: Tênis é R$3677.1\n",
      "valor total de vendas do Produto: Boné é R$2112.96\n",
      "valor total de vendas do Produto: Boné é R$671.1\n",
      "valor total de vendas do Produto: Calça é R$964.99\n",
      "valor total de vendas do Produto: Boné é R$922.6800000000001\n",
      "valor total de vendas do Produto: Jaqueta é R$341.0\n",
      "valor total de vendas do Produto: Jaqueta é R$1492.03\n",
      "valor total de vendas do Produto: Tênis é R$904.54\n",
      "valor total de vendas do Produto: Jaqueta é R$417.0\n",
      "valor total de vendas do Produto: Boné é R$294.88\n",
      "valor total de vendas do Produto: Boné é R$4252.6\n",
      "valor total de vendas do Produto: Camiseta é R$1262.24\n",
      "valor total de vendas do Produto: Camiseta é R$324.53\n",
      "------------------------------\n",
      "Ano - 2023\n",
      "valor total de vendas do Produto: Tênis é R$466.90000000000003\n",
      "valor total de vendas do Produto: Tênis é R$203.19\n",
      "valor total de vendas do Produto: Camiseta é R$820.35\n",
      "valor total de vendas do Produto: Calça é R$78.25\n",
      "valor total de vendas do Produto: Jaqueta é R$3628.45\n",
      "valor total de vendas do Produto: Calça é R$1760.95\n",
      "valor total de vendas do Produto: Jaqueta é R$1288.56\n",
      "valor total de vendas do Produto: Tênis é R$806.52\n",
      "valor total de vendas do Produto: Calça é R$220.88\n",
      "valor total de vendas do Produto: Jaqueta é R$238.44\n",
      "valor total de vendas do Produto: Calça é R$2033.3600000000001\n",
      "valor total de vendas do Produto: Jaqueta é R$1999.8500000000001\n",
      "valor total de vendas do Produto: Tênis é R$1440.55\n",
      "valor total de vendas do Produto: Tênis é R$90.76\n",
      "valor total de vendas do Produto: Camiseta é R$407.12\n",
      "valor total de vendas do Produto: Calça é R$2898.0000000000005\n",
      "valor total de vendas do Produto: Boné é R$1380.23\n",
      "valor total de vendas do Produto: Jaqueta é R$1895.51\n",
      "------------------------------\n"
     ]
    }
   ],
   "source": [
    "for i in year_manufacture:\n",
    "    print(f'Ano - {i}')\n",
    "    for sales in dados:\n",
    "        year = sales[\"ano_fabricacao\"]\n",
    "        if i == year:\n",
    "            produto = sales[\"nome_produto\"]\n",
    "            marca = sales[\"marca\"]\n",
    "            valor = sales[\"valor_produto\"]\n",
    "            qtd_vendas = sales[\"qtd_vendas\"]\n",
    "            \n",
    "            total_vendas = qtd_vendas * valor\n",
    "            \n",
    "            print(f'valor total de vendas do Produto: {produto} é R${total_vendas}')\n",
    "    print('-' * 30)\n",
    "    "
   ]
  },
  {
   "cell_type": "code",
   "execution_count": null,
   "id": "301196f9-1278-4898-9cda-f3e010d9f28e",
   "metadata": {},
   "outputs": [],
   "source": [
    "  {\n",
    "    \"nome_produto\": \"T\\u00eanis\",\n",
    "    \"modelo\": \"Casual\",\n",
    "    \"marca\": \"Marca C\",\n",
    "    \"ano_fabricacao\": 2022,\n",
    "    \"qtd_estoque\": 67,\n",
    "    \"qtd_vendas\": 22,\n",
    "    \"valor_produto\": 43.97\n",
    "  },"
   ]
  },
  {
   "cell_type": "code",
   "execution_count": 34,
   "id": "dcbe9873-55c5-43fe-a344-ce0539b7f484",
   "metadata": {},
   "outputs": [
    {
     "name": "stdout",
     "output_type": "stream",
     "text": [
      "Produto com maior estoque - Produto:Jaqueta - Estoque: 200\n"
     ]
    }
   ],
   "source": [
    "nome_produto = ''\n",
    "maior_estoque = 0\n",
    "\n",
    "for sales in dados:\n",
    "    produto = sales[\"nome_produto\"]\n",
    "    qtd_estoque = sales[\"qtd_estoque\"]\n",
    "    \n",
    "    if qtd_estoque > maior_estoque:\n",
    "        nome_produto = produto\n",
    "        maior_estoque = qtd_estoque\n",
    "        \n",
    "print(f'Produto com maior estoque - Produto:{produto} - Estoque: {maior_estoque}')\n"
   ]
  },
  {
   "cell_type": "code",
   "execution_count": 36,
   "id": "b7db5553-ca1f-47d6-8207-a63836726afd",
   "metadata": {},
   "outputs": [
    {
     "name": "stdout",
     "output_type": "stream",
     "text": [
      "Produto mais vendido - Produto:Jaqueta - Vendas: 49\n"
     ]
    }
   ],
   "source": [
    "nome_produto = ''\n",
    "maior_venda = 0\n",
    "\n",
    "for sales in dados:\n",
    "    produto = sales[\"nome_produto\"]\n",
    "    qtd_vendas = sales[\"qtd_vendas\"]\n",
    "    \n",
    "    if qtd_vendas > maior_venda:\n",
    "        nome_produto = produto\n",
    "        maior_venda = qtd_vendas\n",
    "        \n",
    "print(f'Produto mais vendido - Produto:{produto} - Vendas: {maior_venda}')"
   ]
  },
  {
   "cell_type": "code",
   "execution_count": 38,
   "id": "4d8dd515-be1e-4edc-9fc8-a41c72b2b196",
   "metadata": {},
   "outputs": [
    {
     "name": "stdout",
     "output_type": "stream",
     "text": [
      "Total de vendas é 2549\n"
     ]
    }
   ],
   "source": [
    "total_vendas  = 0\n",
    "for sales in dados:\n",
    "    qtd_vendas = sales[\"qtd_vendas\"]\n",
    "    total_vendas += qtd_vendas\n",
    "        \n",
    "print(f'Total de vendas é {total_vendas}')"
   ]
  }
 ],
 "metadata": {
  "kernelspec": {
   "display_name": "Python 3 (ipykernel)",
   "language": "python",
   "name": "python3"
  },
  "language_info": {
   "codemirror_mode": {
    "name": "ipython",
    "version": 3
   },
   "file_extension": ".py",
   "mimetype": "text/x-python",
   "name": "python",
   "nbconvert_exporter": "python",
   "pygments_lexer": "ipython3",
   "version": "3.10.9"
  }
 },
 "nbformat": 4,
 "nbformat_minor": 5
}
