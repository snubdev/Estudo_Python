{
 "cells": [
  {
   "cell_type": "code",
   "execution_count": 8,
   "id": "418dadf3-5199-4bd1-a7c9-b1d73b9a34c1",
   "metadata": {},
   "outputs": [],
   "source": [
    "import json\n",
    "import random"
   ]
  },
  {
   "cell_type": "code",
   "execution_count": 9,
   "id": "5be039ff-f830-47c0-85cb-e6f4d87ff871",
   "metadata": {},
   "outputs": [],
   "source": [
    "# Lista de produtos, marcas e modelos fictícios para gerar dados aleatórios\n",
    "produtos = [\"Camiseta\", \"Tênis\", \"Calça\", \"Jaqueta\", \"Boné\"]\n",
    "marcas = [\"Marca A\", \"Marca B\", \"Marca C\", \"Marca D\", \"Marca E\"]\n",
    "modelos = [\"Básico\", \"Esportivo\", \"Elegante\", \"Casual\", \"Moderno\"]"
   ]
  },
  {
   "cell_type": "code",
   "execution_count": 10,
   "id": "f3704cea-4cb6-49a2-b446-3b4824f77ff8",
   "metadata": {},
   "outputs": [],
   "source": [
    "dados_vendas = []"
   ]
  },
  {
   "cell_type": "code",
   "execution_count": 11,
   "id": "e11bee63-ed85-4699-8fd8-4e6a9487723f",
   "metadata": {},
   "outputs": [],
   "source": [
    "for _ in range(101):\n",
    "    nome_produto = random.choice(produtos)\n",
    "    modelo = random.choice(modelos)\n",
    "    marca = random.choice(marcas)\n",
    "    ano_fabricacao = random.randint(2018, 2023)\n",
    "    qtd_estoque = random.randint(50, 200)\n",
    "    qtd_vendas = random.randint(0, 50)\n",
    "    valor_produto = round(random.uniform(10.0, 100.0), 2)\n",
    "\n",
    "    venda = {\n",
    "        \"nome_produto\": nome_produto,\n",
    "        \"modelo\": modelo,\n",
    "        \"marca\": marca,\n",
    "        \"ano_fabricacao\": ano_fabricacao,\n",
    "        \"qtd_estoque\": qtd_estoque,\n",
    "        \"qtd_vendas\": qtd_vendas,\n",
    "        \"valor_produto\": valor_produto\n",
    "    }\n",
    "    dados_vendas.append(venda)"
   ]
  },
  {
   "cell_type": "code",
   "execution_count": 12,
   "id": "655f58cb-5e85-4878-a92a-cdc65ab03f9e",
   "metadata": {},
   "outputs": [],
   "source": [
    "# Escrever os dados no arquivo payload.json\n",
    "with open('vendas.json', 'w') as arquivo:\n",
    "    json.dump(dados_vendas, arquivo, indent=2)"
   ]
  }
 ],
 "metadata": {
  "kernelspec": {
   "display_name": "Python 3 (ipykernel)",
   "language": "python",
   "name": "python3"
  },
  "language_info": {
   "codemirror_mode": {
    "name": "ipython",
    "version": 3
   },
   "file_extension": ".py",
   "mimetype": "text/x-python",
   "name": "python",
   "nbconvert_exporter": "python",
   "pygments_lexer": "ipython3",
   "version": "3.10.9"
  }
 },
 "nbformat": 4,
 "nbformat_minor": 5
}
