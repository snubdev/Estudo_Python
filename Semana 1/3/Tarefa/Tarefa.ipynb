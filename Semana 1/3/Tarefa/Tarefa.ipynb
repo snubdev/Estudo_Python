{
 "cells": [
  {
   "cell_type": "code",
   "execution_count": 35,
   "id": "b00fb311-5859-4d21-abaa-d6165a4237c1",
   "metadata": {},
   "outputs": [],
   "source": [
    "import json"
   ]
  },
  {
   "cell_type": "code",
   "execution_count": 146,
   "id": "04cc61bd-ecdb-477c-805e-8793d4e9ad92",
   "metadata": {},
   "outputs": [],
   "source": [
    "path = 'list_cars.json'"
   ]
  },
  {
   "cell_type": "code",
   "execution_count": 147,
   "id": "b9e60e6e-7d61-4084-8224-382415e273d2",
   "metadata": {},
   "outputs": [],
   "source": [
    "# Abriando o Lendo o Json\n",
    "def open_json(path):\n",
    "    with open(path, 'r') as file:\n",
    "        cars = json.load(file)\n",
    "    return cars"
   ]
  },
  {
   "cell_type": "code",
   "execution_count": 148,
   "id": "b20d3d94-a7b7-4e2a-8fec-50428a7dbfe9",
   "metadata": {},
   "outputs": [],
   "source": [
    "# Savando os dados no json\n",
    "def save_json(path, data):\n",
    "    with open(path, 'w') as file:\n",
    "        json.dump(data, file, indent=4)\n",
    "    return 'Dados salvo com sucesso'"
   ]
  },
  {
   "cell_type": "code",
   "execution_count": 149,
   "id": "322606ae-520c-4a86-9951-4281a4aeb059",
   "metadata": {},
   "outputs": [],
   "source": [
    "marca = 'Audi'\n",
    "modelo = 'RS6'\n",
    "ano = 2023\n",
    "cor = 'Preto'\n",
    "preco = 110000"
   ]
  },
  {
   "cell_type": "code",
   "execution_count": 150,
   "id": "e4c7fcb3-a098-4e72-a06a-5cb7614fe964",
   "metadata": {},
   "outputs": [],
   "source": [
    "def add_json(marca, modelo, ano, cor, preco):\n",
    "    data = open_json(path)\n",
    "    \n",
    "    new_car = {'marca': marca, 'modelo': modelo, 'ano': ano, 'cor': cor, 'preco': preco}\n",
    "    \n",
    "    data['carros'].append(new_car)\n",
    "    \n",
    "    return save_json(path, data)"
   ]
  },
  {
   "cell_type": "code",
   "execution_count": 151,
   "id": "3e5f61db-6cb6-42f6-9afc-7c45760aee05",
   "metadata": {},
   "outputs": [],
   "source": [
    "def car_average_price(path):\n",
    "    cars = open_json(path)\n",
    "    price = []\n",
    "    total_price = 0\n",
    "    \n",
    "    for c in cars['carros']:\n",
    "        total_price += int(c['preco'])\n",
    "        price.append(int(c['preco']))\n",
    "        \n",
    "    average_price = total_price / len(price)\n",
    "    \n",
    "    return print(f'Preço médio dos carros é ${average_price}') "
   ]
  },
  {
   "cell_type": "code",
   "execution_count": 152,
   "id": "b402356d-ce95-42b4-aa3a-d2b3ce82a9d9",
   "metadata": {},
   "outputs": [
    {
     "data": {
      "text/plain": [
       "'Dados salvo com sucesso'"
      ]
     },
     "execution_count": 152,
     "metadata": {},
     "output_type": "execute_result"
    }
   ],
   "source": [
    "add_json(marca, modelo, ano, cor, preco)"
   ]
  },
  {
   "cell_type": "code",
   "execution_count": 153,
   "id": "c2d71047-c0ab-4e23-a543-0983b09601e6",
   "metadata": {},
   "outputs": [],
   "source": [
    "def show_cars(path):\n",
    "    cars = open_json(path)\n",
    "    \n",
    "    for car in cars['carros']:\n",
    "        print(f'Marca - {car[\"marca\"]}')\n",
    "        print(f'Modelo - {car[\"modelo\"]}')\n",
    "        print(f'Ano - {car[\"ano\"]}')\n",
    "        print(f'Cor - {car[\"cor\"]}')\n",
    "        print(f'Preço - {car[\"preco\"]}')\n",
    "        print('-' * 30)\n",
    "    return"
   ]
  },
  {
   "cell_type": "code",
   "execution_count": 154,
   "id": "ce0beb73-69c0-4e54-8be6-3c75d5c5ae5d",
   "metadata": {},
   "outputs": [],
   "source": [
    "def cars_ordered(path):\n",
    "    cars = open_json(path)\n",
    "    \n",
    "    ordered = sorted(cars['carros'], key=lambda carro: int(carro['preco']))\n",
    "    \n",
    "    for c in ordered:\n",
    "        print(f'Carro: {c[\"marca\"]} {c[\"modelo\"]} - Preço: ${c[\"preco\"]}')"
   ]
  },
  {
   "cell_type": "code",
   "execution_count": 155,
   "id": "bffd37ec-32da-4ed0-a0ec-3037db77951e",
   "metadata": {},
   "outputs": [],
   "source": [
    "def filter_car_price(path, price):\n",
    "    cars = open_json(path)\n",
    "    \n",
    "    for c in cars['carros']:\n",
    "        if price > int(c['preco']):\n",
    "            print(f'Carro: {c[\"marca\"]} {c[\"modelo\"]} - Preço: ${c[\"preco\"]}')\n",
    "    return"
   ]
  },
  {
   "cell_type": "code",
   "execution_count": 156,
   "id": "9f9a8652-a0b6-4730-82ea-e062b0a73e1d",
   "metadata": {},
   "outputs": [],
   "source": [
    "def filter_car_year(path, year):\n",
    "    cars = open_json(path)\n",
    "    \n",
    "    for c in cars['carros']:\n",
    "        if int(c['ano']) > year:\n",
    "            print(f'Carro: {c[\"marca\"]} {c[\"modelo\"]} - Ano: {c[\"ano\"]}')\n",
    "    return"
   ]
  },
  {
   "cell_type": "code",
   "execution_count": 157,
   "id": "2a6d3294-1dbe-46cc-930e-bf6a5df970e5",
   "metadata": {},
   "outputs": [
    {
     "name": "stdout",
     "output_type": "stream",
     "text": [
      "Marca - Toyota\n",
      "Modelo - Corolla\n",
      "Ano - 2022\n",
      "Cor - Prata\n",
      "Preço - 35000\n",
      "------------------------------\n",
      "Marca - Ford\n",
      "Modelo - Mustang\n",
      "Ano - 2023\n",
      "Cor - Vermelho\n",
      "Preço - 50000\n",
      "------------------------------\n",
      "Marca - Tesla\n",
      "Modelo - Model S\n",
      "Ano - 2024\n",
      "Cor - Branco\n",
      "Preço - 80000\n",
      "------------------------------\n",
      "Marca - Audi\n",
      "Modelo - RS6\n",
      "Ano - 2023\n",
      "Cor - Preto\n",
      "Preço - 110000\n",
      "------------------------------\n"
     ]
    }
   ],
   "source": [
    "# Exibe todos os detalhes de cada carro do json\n",
    "show_cars(path)"
   ]
  },
  {
   "cell_type": "code",
   "execution_count": 158,
   "id": "acb34b7b-4d94-45c1-a595-2e2f181db856",
   "metadata": {},
   "outputs": [
    {
     "name": "stdout",
     "output_type": "stream",
     "text": [
      "Carro: Toyota Corolla - Preço: $35000\n",
      "Carro: Ford Mustang - Preço: $50000\n",
      "Carro: Tesla Model S - Preço: $80000\n",
      "Carro: Audi RS6 - Preço: $110000\n"
     ]
    }
   ],
   "source": [
    "# Exibe todos os carros de forma ordenanda, do menor preço para o maior preço\n",
    "cars_ordered(path)"
   ]
  },
  {
   "cell_type": "code",
   "execution_count": 159,
   "id": "c4bdf8f9-a1ef-47b1-87e7-2f3925229dcb",
   "metadata": {},
   "outputs": [
    {
     "name": "stdout",
     "output_type": "stream",
     "text": [
      "Preço médio dos carros é $68750.0\n"
     ]
    }
   ],
   "source": [
    "# Exibe o preço medio dos carros\n",
    "car_average_price(path)"
   ]
  },
  {
   "cell_type": "code",
   "execution_count": 163,
   "id": "ce97983b-e79d-4e5e-9d60-d32d205ab861",
   "metadata": {},
   "outputs": [
    {
     "name": "stdin",
     "output_type": "stream",
     "text": [
      "Informe um preço:  80000\n"
     ]
    },
    {
     "name": "stdout",
     "output_type": "stream",
     "text": [
      "Carro: Toyota Corolla - Preço: $35000\n",
      "Carro: Ford Mustang - Preço: $50000\n"
     ]
    }
   ],
   "source": [
    "price = int(input('Informe um preço: '))\n",
    "filter_car_price(path, price)"
   ]
  },
  {
   "cell_type": "code",
   "execution_count": 162,
   "id": "b54f84b2-d81e-4da1-869b-09787de7c77f",
   "metadata": {},
   "outputs": [
    {
     "name": "stdin",
     "output_type": "stream",
     "text": [
      "Informe um ano:  2023\n"
     ]
    },
    {
     "name": "stdout",
     "output_type": "stream",
     "text": [
      "Carro: Tesla Model S - Ano: 2024\n"
     ]
    }
   ],
   "source": [
    "# Exibir apenas os carros fabricados depois desse ano.\n",
    "year = int(input('Informe um ano: '))\n",
    "filter_car_year(path, year)"
   ]
  }
 ],
 "metadata": {
  "kernelspec": {
   "display_name": "Python 3 (ipykernel)",
   "language": "python",
   "name": "python3"
  },
  "language_info": {
   "codemirror_mode": {
    "name": "ipython",
    "version": 3
   },
   "file_extension": ".py",
   "mimetype": "text/x-python",
   "name": "python",
   "nbconvert_exporter": "python",
   "pygments_lexer": "ipython3",
   "version": "3.10.9"
  }
 },
 "nbformat": 4,
 "nbformat_minor": 5
}
