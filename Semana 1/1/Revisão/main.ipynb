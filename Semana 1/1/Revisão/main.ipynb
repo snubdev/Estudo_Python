{
 "cells": [
  {
   "cell_type": "markdown",
   "id": "a50a4cf5-63a0-41ee-af54-a6efbb0ff01a",
   "metadata": {},
   "source": [
    "## Extração e Manipulação de Dados .txt"
   ]
  },
  {
   "cell_type": "code",
   "execution_count": 2,
   "id": "6f445336-43b4-4455-92b7-9394df32e16e",
   "metadata": {},
   "outputs": [],
   "source": [
    "path = 'excerpt.txt'"
   ]
  },
  {
   "cell_type": "code",
   "execution_count": 3,
   "id": "cfd83009-4b95-4fa9-94d5-22750b472ee1",
   "metadata": {},
   "outputs": [
    {
     "name": "stdout",
     "output_type": "stream",
     "text": [
      "Today, robots can talk to humans using natural language, and they’re getting smarter. Even so, very few people understand how these robots work or how they might use these technologies in their own projects.\n",
      "\n",
      "Natural language processing (NLP) – a branch of artificial intelligence that helps machines understand and respond to human language – is the key technology that lies at the heart of any digital assistant product.\n"
     ]
    }
   ],
   "source": [
    "# Abrindo um arquivo .txt, lendo o conteúdo do arquivo e exibindo\n",
    "\n",
    "with open(path, 'r') as f:\n",
    "    content = f.read()\n",
    "    print(content)"
   ]
  },
  {
   "cell_type": "code",
   "execution_count": 4,
   "id": "4fe4fe8d-15ce-4a87-8c71-c96b7f40983f",
   "metadata": {},
   "outputs": [
    {
     "name": "stdout",
     "output_type": "stream",
     "text": [
      "Line 0:  Today, robots can talk to humans using natural language, and they’re getting smarter. Even so, very few people understand how these robots work or how they might use these technologies in their own projects.\n",
      "Line 2:  Natural language processing (NLP) – a branch of artificial intelligence that helps machines understand and respond to human language – is the key technology that lies at the heart of any digital assistant product.\n"
     ]
    }
   ],
   "source": [
    "# Exibindo as minhas não vazias\n",
    "\n",
    "with open(path, 'r') as f:\n",
    "    for i, line in enumerate(f):\n",
    "        if line.strip():\n",
    "            print(f'Line {i}: ', line.strip())"
   ]
  },
  {
   "cell_type": "code",
   "execution_count": null,
   "id": "58b846b1-e2f2-4774-8797-9cd7fbb85854",
   "metadata": {},
   "outputs": [],
   "source": [
    "# Colocando o texto em uma lista\n",
    "with open(path, 'r') as f:\n",
    "    lst = [line.strip() for line in f if line.strip()]"
   ]
  },
  {
   "cell_type": "markdown",
   "id": "3064575c-4065-4a25-a686-cd6f99ded138",
   "metadata": {},
   "source": [
    "## Extração e Manipulação de Dados .csv"
   ]
  },
  {
   "cell_type": "code",
   "execution_count": 8,
   "id": "a048edf2-8ff6-4e69-9570-dc8ab4385f62",
   "metadata": {},
   "outputs": [],
   "source": [
    "import csv"
   ]
  },
  {
   "cell_type": "code",
   "execution_count": 9,
   "id": "21b9ef7f-00fc-496a-988a-ce3b6d66e7f6",
   "metadata": {},
   "outputs": [],
   "source": [
    "path = 'cars.csv'"
   ]
  },
  {
   "cell_type": "code",
   "execution_count": 11,
   "id": "84e89ee1-1050-4b5c-96ed-f98426aa52bc",
   "metadata": {},
   "outputs": [
    {
     "name": "stdout",
     "output_type": "stream",
     "text": [
      "[{'Year': '1997', 'Make': 'Ford', 'Model': 'E350', 'Price': '3200.00'}, {'Year': '1999', 'Make': 'Chevy', 'Model': 'Venture', 'Price': '4800.00'}, {'Year': '1996', 'Make': 'Jeep', 'Model': 'Grand Cherokee', 'Price': '4900.00'}]\n"
     ]
    }
   ],
   "source": [
    "# Abrindo um arquivo .csv, lendo o conteúdo do arquivo, inserindo seus dados em dicionários e os armazenando em uma lista chamada cars e exibindo\n",
    "\n",
    "with open(path, 'r') as csv_file:\n",
    "    csv_reader = csv.DictReader(csv_file)\n",
    "    cars = []\n",
    "    for row in csv_reader:\n",
    "        cars.append(dict(row))\n",
    "    print(cars)"
   ]
  },
  {
   "cell_type": "code",
   "execution_count": 12,
   "id": "4b2a2867-05f6-4ec7-ae3a-c736bc21cb93",
   "metadata": {},
   "outputs": [
    {
     "name": "stdout",
     "output_type": "stream",
     "text": [
      "[['Year', 'Make', 'Model', 'Price'], ['1997', 'Ford', 'E350', '3200.00'], ['1999', 'Chevy', 'Venture', '4800.00'], ['1996', 'Jeep', 'Grand Cherokee', '4900.00']]\n"
     ]
    }
   ],
   "source": [
    "# Abrindo um arquivo .csv, lendo o conteúdo do arquivo, inserindo suas linhas como listas em uma lista chamada cars e exibindo\n",
    "\n",
    "with open(path, 'r') as csv_file:\n",
    "    csv_reader = csv.reader(csv_file)\n",
    "    cars = []\n",
    "    for row in csv_reader:\n",
    "        cars.append(row)\n",
    "    print(cars)"
   ]
  }
 ],
 "metadata": {
  "kernelspec": {
   "display_name": "Python 3 (ipykernel)",
   "language": "python",
   "name": "python3"
  },
  "language_info": {
   "codemirror_mode": {
    "name": "ipython",
    "version": 3
   },
   "file_extension": ".py",
   "mimetype": "text/x-python",
   "name": "python",
   "nbconvert_exporter": "python",
   "pygments_lexer": "ipython3",
   "version": "3.10.9"
  }
 },
 "nbformat": 4,
 "nbformat_minor": 5
}
