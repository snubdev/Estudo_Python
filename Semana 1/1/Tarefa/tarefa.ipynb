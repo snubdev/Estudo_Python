{
 "cells": [
  {
   "cell_type": "code",
   "execution_count": 2,
   "id": "0336efd1-f5ba-41c3-a426-6eddce5e04b5",
   "metadata": {},
   "outputs": [],
   "source": [
    "import csv"
   ]
  },
  {
   "cell_type": "code",
   "execution_count": 3,
   "id": "2a4ba2ea-c3c4-45ff-b583-40ce725c404d",
   "metadata": {},
   "outputs": [],
   "source": [
    "path = 'students.csv'"
   ]
  },
  {
   "cell_type": "code",
   "execution_count": 4,
   "id": "e569ac41-c12e-40fc-89a6-abf91baea8f4",
   "metadata": {},
   "outputs": [],
   "source": [
    "# Abrindo um arquivo .csv, lendo o conteúdo do arquivo, inserindo seus dados em dicionários e os armazenando em uma lista chamada cars e exibindo\n",
    "\n",
    "with open(path, \"r\") as csv_file:\n",
    "    file_reader = csv.DictReader(csv_file)\n",
    "    dados = []\n",
    "    \n",
    "    for i in file_reader:\n",
    "        dados.append(dict(i))"
   ]
  },
  {
   "cell_type": "code",
   "execution_count": 6,
   "id": "4325ebd4-1ec7-4820-82c7-76a46c3e73df",
   "metadata": {},
   "outputs": [
    {
     "data": {
      "text/plain": [
       "[{'Nome': 'João Silva', 'Idade': '22', 'Nota Média': '8.5'},\n",
       " {'Nome': 'Maria Santos', 'Idade': '19', 'Nota Média': '9.2'},\n",
       " {'Nome': 'Pedro Oliveira', 'Idade': '24', 'Nota Média': '7.8'},\n",
       " {'Nome': 'Ana Pereira', 'Idade': '21', 'Nota Média': '8.9'},\n",
       " {'Nome': 'Lucas Costa', 'Idade': '23', 'Nota Média': '8.3'}]"
      ]
     },
     "execution_count": 6,
     "metadata": {},
     "output_type": "execute_result"
    }
   ],
   "source": [
    "dados"
   ]
  },
  {
   "cell_type": "code",
   "execution_count": 11,
   "id": "f87fcb1c-f054-40dc-ad93-2bf356c4bab5",
   "metadata": {},
   "outputs": [
    {
     "name": "stdout",
     "output_type": "stream",
     "text": [
      "Média de Idade dos alunos: 21.8\n"
     ]
    }
   ],
   "source": [
    "# Calcula á media de idade dos alunos\n",
    "\n",
    "total_idade = 0\n",
    "cont = 0\n",
    "for c in dados:\n",
    "    total_idade += int(c['Idade'])\n",
    "    cont += 1\n",
    "    \n",
    "media = total_idade / cont\n",
    "print(f'Média de Idade dos alunos: {media}') "
   ]
  },
  {
   "cell_type": "code",
   "execution_count": 45,
   "id": "21bba727-db43-42a3-8b42-dd2edb59a26d",
   "metadata": {},
   "outputs": [
    {
     "name": "stdout",
     "output_type": "stream",
     "text": [
      "Nome = Maria Santos, Nota = 9.2\n"
     ]
    }
   ],
   "source": [
    "# Verifica a Maior Nota e exibe o nome e a nota do aluno com a maior nota\n",
    "\n",
    "media = 0\n",
    "nome_aluno = ''\n",
    "for n in dados:\n",
    "    nome = n['Nome']\n",
    "    nota = float(n['Nota Média'])\n",
    "    \n",
    "    if nota > media:\n",
    "        nome_aluno = nome\n",
    "        media = nota\n",
    "        \n",
    "print(f'Nome = {nome_aluno}, Nota = {media}')"
   ]
  },
  {
   "cell_type": "code",
   "execution_count": 55,
   "id": "3d16467d-d716-4b80-b482-92e04ceeec51",
   "metadata": {},
   "outputs": [],
   "source": [
    "# Inseri um novo aluno no arquivo csv\n",
    "\n",
    "novo_dado = [\"Roberto Alves\", 27, 8.7]\n",
    "\n",
    "with open(path, \"a\", newline='') as f:\n",
    "    writer = csv.writer(f)\n",
    "    writer.writerow(novo_dado)"
   ]
  },
  {
   "cell_type": "code",
   "execution_count": 60,
   "id": "458fbbcc-8266-4c8e-bd45-656ddea64738",
   "metadata": {},
   "outputs": [],
   "source": [
    "# Remove o estudante do arquivo CSV\n",
    "\n",
    "nome_estudante = 'Roberto Alves'\n",
    "\n",
    "with open('students-Copy1.csv', 'r') as f:\n",
    "    reader = csv.DictReader(f)\n",
    "    dados = list(reader)\n",
    "    \n",
    "dados = [d for d in dados if d['Nome'] != nome_estudante]\n",
    "\n",
    "with open('students-Copy1.csv', 'w', newline='') as f:\n",
    "    writer = csv.DictWriter(f, fieldnames=['Nome', 'Idade', 'Nota Média'])\n",
    "    writer.writeheader()\n",
    "    writer.writerows(dados)\n",
    "          "
   ]
  },
  {
   "cell_type": "code",
   "execution_count": 88,
   "id": "461bb255-4a01-4cd8-8621-59b058f0ed07",
   "metadata": {},
   "outputs": [],
   "source": [
    "# Faz a leitura dos dados no arquivo csv e inseri em um lista\n",
    "\n",
    "with open(path, \"r\") as csv_file:\n",
    "    file_reader = csv.reader(csv_file)\n",
    "    dados = []\n",
    "    \n",
    "    for i in file_reader:\n",
    "        dados.append(i)\n",
    "        \n",
    "# Remover a primeira lista\n",
    "dados_alunos = dados[1:]\n",
    "\n",
    "# Remover a coluna de idade (índice 1) de cada lista\n",
    "for i in dados_alunos:\n",
    "    i.pop(1)\n",
    "    \n",
    "nome_arquivo = 'students_summary.csv'\n",
    "\n",
    "# Inseri os dados no arquivo CSV\n",
    "with open(nome_arquivo, 'w', newline='') as file:\n",
    "    writer = csv.writer(file)\n",
    "    # Cabeçalho\n",
    "    writer.writerow(['Nome', 'Nota'])\n",
    "    # Inseri os dados\n",
    "    writer.writerows(dados_alunos)"
   ]
  }
 ],
 "metadata": {
  "kernelspec": {
   "display_name": "Python 3 (ipykernel)",
   "language": "python",
   "name": "python3"
  },
  "language_info": {
   "codemirror_mode": {
    "name": "ipython",
    "version": 3
   },
   "file_extension": ".py",
   "mimetype": "text/x-python",
   "name": "python",
   "nbconvert_exporter": "python",
   "pygments_lexer": "ipython3",
   "version": "3.10.9"
  }
 },
 "nbformat": 4,
 "nbformat_minor": 5
}
