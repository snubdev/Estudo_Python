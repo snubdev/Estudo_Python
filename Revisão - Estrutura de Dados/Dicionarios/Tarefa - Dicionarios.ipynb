{
 "cells": [
  {
   "cell_type": "code",
   "execution_count": null,
   "id": "4ac64389-e860-48ad-abb5-0d8a30ae0bab",
   "metadata": {},
   "outputs": [],
   "source": [
    "Exercício de Manipulação de Dicionário\n",
    "\n",
    "Suponha que você está gerenciando a lista de convidados para uma festa. Você tem um dicionário onde as chaves são os nomes dos convidados e os valores são as respectivas idades.\n",
    "\n",
    "convidados = {\n",
    "    'Alice': 25,\n",
    "    'João': 30,\n",
    "    'Maria': 28,\n",
    "    'Pedro': 27\n",
    "}\n",
    "\n",
    "1. Adicione um novo convidado chamado 'Laura', com 29 anos.\n",
    "2. Remova o convidado 'João' da lista, caso exista.\n",
    "3. Verifique se 'Maria' está presente na lista de convidados.\n",
    "4. Imprima o nome e a idade de cada convidado, um por linha."
   ]
  },
  {
   "cell_type": "code",
   "execution_count": 17,
   "id": "0ede8ebd-1d2b-4313-abe2-c8f6b9cb1847",
   "metadata": {},
   "outputs": [],
   "source": [
    "# Dicionário de convidados e suas idades\n",
    "convidados = {\n",
    "    'Alice': 25,\n",
    "    'João': 30,\n",
    "    'Maria': 28,\n",
    "    'Pedro': 27\n",
    "}"
   ]
  },
  {
   "cell_type": "code",
   "execution_count": 19,
   "id": "6f03b10b-7fcf-4b53-a850-c1660ab3d09e",
   "metadata": {},
   "outputs": [],
   "source": [
    "# Adicionando convidado\n",
    "convidados['Laura'] = 29"
   ]
  },
  {
   "cell_type": "code",
   "execution_count": 20,
   "id": "4f8f7cf1-e992-4c6d-9c17-96083b56622b",
   "metadata": {},
   "outputs": [
    {
     "name": "stdout",
     "output_type": "stream",
     "text": [
      "{'Alice': 25, 'João': 30, 'Maria': 28, 'Pedro': 27, 'Laura': 29}\n"
     ]
    }
   ],
   "source": [
    "print(convidados)"
   ]
  },
  {
   "cell_type": "code",
   "execution_count": 21,
   "id": "289a86c8-9575-4553-97ad-6fe867ea0df1",
   "metadata": {},
   "outputs": [],
   "source": [
    "# Removedo um convidado especificio no dicionario\n",
    "\n",
    "if 'João' in convidados:\n",
    "    convidados.pop('João')\n",
    "else:\n",
    "    print('João não está na lista de convidados')"
   ]
  },
  {
   "cell_type": "code",
   "execution_count": 22,
   "id": "7ebb45a7-b91e-4200-823a-a8b494f50d9a",
   "metadata": {},
   "outputs": [
    {
     "name": "stdout",
     "output_type": "stream",
     "text": [
      "{'Alice': 25, 'Maria': 28, 'Pedro': 27, 'Laura': 29}\n"
     ]
    }
   ],
   "source": [
    "print(convidados)"
   ]
  },
  {
   "cell_type": "code",
   "execution_count": 23,
   "id": "3ea83d53-a0a5-41bb-bce9-fe5e7c24430b",
   "metadata": {},
   "outputs": [
    {
     "name": "stdout",
     "output_type": "stream",
     "text": [
      "Maria está presente na lista de convidados\n"
     ]
    }
   ],
   "source": [
    "if 'Maria' in convidados:\n",
    "    print('Maria está presente na lista de convidados')\n",
    "else:\n",
    "    print('Maria não está presente na lista de convidados')"
   ]
  },
  {
   "cell_type": "code",
   "execution_count": 24,
   "id": "160dee68-6539-4032-add5-de483a2fae4b",
   "metadata": {},
   "outputs": [
    {
     "name": "stdout",
     "output_type": "stream",
     "text": [
      "Alice 25\n",
      "Maria 28\n",
      "Pedro 27\n",
      "Laura 29\n"
     ]
    }
   ],
   "source": [
    "for n, i in convidados.items():\n",
    "    print(n, i)"
   ]
  }
 ],
 "metadata": {
  "kernelspec": {
   "display_name": "Python 3 (ipykernel)",
   "language": "python",
   "name": "python3"
  },
  "language_info": {
   "codemirror_mode": {
    "name": "ipython",
    "version": 3
   },
   "file_extension": ".py",
   "mimetype": "text/x-python",
   "name": "python",
   "nbconvert_exporter": "python",
   "pygments_lexer": "ipython3",
   "version": "3.10.9"
  }
 },
 "nbformat": 4,
 "nbformat_minor": 5
}
