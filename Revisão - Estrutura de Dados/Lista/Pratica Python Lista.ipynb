{
 "cells": [
  {
   "cell_type": "code",
   "execution_count": 1,
   "id": "c999ab0d-26d6-4d93-9bfc-337bc8accf06",
   "metadata": {},
   "outputs": [],
   "source": [
    "# Lista de frutas\n",
    "\n",
    "lista_frutas = ['Maçã', 'Banana', 'Pera', 'Uva']"
   ]
  },
  {
   "cell_type": "code",
   "execution_count": 2,
   "id": "377dcf0f-7aad-4104-a34b-d04c6ee18df9",
   "metadata": {},
   "outputs": [
    {
     "name": "stdout",
     "output_type": "stream",
     "text": [
      "['Maçã', 'Banana', 'Pera', 'Uva']\n"
     ]
    }
   ],
   "source": [
    "print(lista_frutas)"
   ]
  },
  {
   "cell_type": "code",
   "execution_count": 4,
   "id": "980ce2fa-f18b-45d9-8941-7639d22a8c45",
   "metadata": {},
   "outputs": [],
   "source": [
    "# Adicionando uma nova fruta ao final da lista\n",
    "nova_fruta = 'Abacaxi'\n",
    "lista_frutas.append(nova_fruta)"
   ]
  },
  {
   "cell_type": "code",
   "execution_count": 7,
   "id": "d987cd4a-09b4-48f6-982d-2d90af124be1",
   "metadata": {},
   "outputs": [
    {
     "name": "stdout",
     "output_type": "stream",
     "text": [
      "['Maçã', 'Banana', 'Uva', 'Abacaxi']\n"
     ]
    }
   ],
   "source": [
    "print(lista_frutas)"
   ]
  },
  {
   "cell_type": "code",
   "execution_count": 9,
   "id": "cc97eade-a847-42e2-af9e-8881ecda9af3",
   "metadata": {},
   "outputs": [
    {
     "name": "stdout",
     "output_type": "stream",
     "text": [
      "Pera não está na lista\n"
     ]
    }
   ],
   "source": [
    "# Removendo uma fruta específica da lista\n",
    "fruta_removida = 'Pera'\n",
    "if fruta_removida in lista_frutas:\n",
    "    lista_frutas.remove(fruta_removida)\n",
    "else:\n",
    "    print(fruta_removida, \"não está na lista\")"
   ]
  },
  {
   "cell_type": "code",
   "execution_count": 8,
   "id": "61d4b950-945f-4b61-a538-56c5795df478",
   "metadata": {},
   "outputs": [
    {
     "name": "stdout",
     "output_type": "stream",
     "text": [
      "Banana está na lista\n"
     ]
    }
   ],
   "source": [
    "# Verificando se uma fruta está na lista\n",
    "fruta_procurada = 'Banana'\n",
    "if fruta_procurada in lista_frutas:\n",
    "    print(fruta_procurada, 'está na lista')\n",
    "else:\n",
    "    print(fruta_procurada, 'não está na lista')"
   ]
  }
 ],
 "metadata": {
  "kernelspec": {
   "display_name": "Python 3 (ipykernel)",
   "language": "python",
   "name": "python3"
  },
  "language_info": {
   "codemirror_mode": {
    "name": "ipython",
    "version": 3
   },
   "file_extension": ".py",
   "mimetype": "text/x-python",
   "name": "python",
   "nbconvert_exporter": "python",
   "pygments_lexer": "ipython3",
   "version": "3.10.9"
  }
 },
 "nbformat": 4,
 "nbformat_minor": 5
}
