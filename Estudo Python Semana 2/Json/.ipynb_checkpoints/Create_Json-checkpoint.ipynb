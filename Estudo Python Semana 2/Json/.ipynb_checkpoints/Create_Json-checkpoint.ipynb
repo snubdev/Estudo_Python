{
 "cells": [
  {
   "cell_type": "code",
   "execution_count": 11,
   "id": "fd68c569-da2e-49f6-abb9-741375289209",
   "metadata": {},
   "outputs": [],
   "source": [
    "import json"
   ]
  },
  {
   "cell_type": "code",
   "execution_count": 12,
   "id": "c945023a-b231-408a-8ac8-a516df61f665",
   "metadata": {},
   "outputs": [],
   "source": [
    "dados = [\n",
    "    {\"nome\": \"Camiseta\", \"preco\": 20.0, \"quantidade\": 50},\n",
    "    {\"nome\": \"Calca Jeans\", \"preco\": 50.0, \"quantidade\": 30},\n",
    "    {\"nome\": \"Tenis\", \"preco\": 80.0, \"quantidade\": 20}\n",
    "]"
   ]
  },
  {
   "cell_type": "code",
   "execution_count": 13,
   "id": "b6ef4b86-ed36-4657-9be5-a2dc70b4a6a2",
   "metadata": {},
   "outputs": [
    {
     "name": "stdout",
     "output_type": "stream",
     "text": [
      "Arquivo JSON criando com sucesso\n"
     ]
    }
   ],
   "source": [
    "with open('produtos.json', 'w') as file:\n",
    "    json.dump(dados, file, indent=4)\n",
    "    \n",
    "print('Arquivo JSON criando com sucesso')"
   ]
  }
 ],
 "metadata": {
  "kernelspec": {
   "display_name": "Python 3 (ipykernel)",
   "language": "python",
   "name": "python3"
  },
  "language_info": {
   "codemirror_mode": {
    "name": "ipython",
    "version": 3
   },
   "file_extension": ".py",
   "mimetype": "text/x-python",
   "name": "python",
   "nbconvert_exporter": "python",
   "pygments_lexer": "ipython3",
   "version": "3.10.9"
  }
 },
 "nbformat": 4,
 "nbformat_minor": 5
}
