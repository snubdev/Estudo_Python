{
 "cells": [
  {
   "cell_type": "markdown",
   "id": "3410224f-b9d9-4408-a7d8-fcc61aaf223f",
   "metadata": {},
   "source": [
    "Exercício de Manipulação de JSON\n",
    "\n",
    "Suponha que você esteja gerenciando informações de produtos em uma loja online. Você tem um arquivo JSON chamado produtos.json que contém uma lista de dicionários, onde cada dicionário representa um produto com informações como nome, preço e quantidade disponível.\n",
    "\n",
    "[\n",
    "    {\"nome\": \"Camiseta\", \"preco\": 20.0, \"quantidade\": 50},\n",
    "    {\"nome\": \"Calça Jeans\", \"preco\": 50.0, \"quantidade\": 30},\n",
    "    {\"nome\": \"Tênis\", \"preco\": 80.0, \"quantidade\": 20}\n",
    "]\n",
    "\n",
    "1. Carregar os dados do arquivo JSON 'produtos.json'.\n",
    "2. Adicionar um novo produto ao arquivo com nome, preço e quantidade fornecidos pelo usuário.\n",
    "3. Remover um produto específico do arquivo com base no nome fornecido pelo usuário.\n",
    "4. Imprimir a lista atualizada de produtos após as operações."
   ]
  },
  {
   "cell_type": "code",
   "execution_count": 43,
   "id": "ed43857a-4fa8-4b75-970b-99818a72939a",
   "metadata": {},
   "outputs": [],
   "source": [
    "import json"
   ]
  },
  {
   "cell_type": "code",
   "execution_count": 70,
   "id": "243a2c58-c9ef-42c5-8cdc-a36924bb2e3a",
   "metadata": {},
   "outputs": [],
   "source": [
    "arquivo = 'produtos.json'"
   ]
  },
  {
   "cell_type": "code",
   "execution_count": 71,
   "id": "2c294786-265f-4ce9-9fd4-0b998e1e6449",
   "metadata": {},
   "outputs": [],
   "source": [
    "def open_json(arquivo):\n",
    "    with open(arquivo, 'r') as file:\n",
    "        data = json.load(file)\n",
    "    return data"
   ]
  },
  {
   "cell_type": "code",
   "execution_count": 72,
   "id": "01ca0ce9-b6ae-4efc-b579-482c0c842a5f",
   "metadata": {},
   "outputs": [],
   "source": [
    "def save_json(arquivo, data):\n",
    "    with open(arquivo, 'w') as file:\n",
    "        json.dump(data, file, indent=4)\n",
    "    return 'Operação salva com Sucesso'"
   ]
  },
  {
   "cell_type": "code",
   "execution_count": 73,
   "id": "13af50e4-b7ec-4677-88c5-275308a807e6",
   "metadata": {},
   "outputs": [],
   "source": [
    "def adicionar_produto(nome, preco, quantidade):\n",
    "    data = open_json(arquivo)\n",
    "        \n",
    "    novo_produto = {\n",
    "        'nome': nome,\n",
    "        'preco': preco,\n",
    "        'quantidade': quantidade\n",
    "    }\n",
    "    \n",
    "    data.append(novo_produto)\n",
    "    \n",
    "    return save_json(arquivo, data)"
   ]
  },
  {
   "cell_type": "code",
   "execution_count": 74,
   "id": "f1154827-4d75-436a-9dfe-a08e87405c8c",
   "metadata": {},
   "outputs": [],
   "source": [
    "def remover_produto(nome):\n",
    "    data = open_json(arquivo)\n",
    "    \n",
    "    produtos_atualizados = []\n",
    "    for produto in data:\n",
    "        if produto['nome'] != nome:\n",
    "            produtos_atualizados.append(produto)\n",
    "            \n",
    "    return save_json(arquivo, produtos_atualizados)"
   ]
  },
  {
   "cell_type": "code",
   "execution_count": 83,
   "id": "0e235830-1669-4844-be78-b3f5170a8243",
   "metadata": {},
   "outputs": [],
   "source": [
    "nome = 'Oculos'\n",
    "preco = 40\n",
    "quantidade = 10"
   ]
  },
  {
   "cell_type": "code",
   "execution_count": 79,
   "id": "b1462122-d64e-4e78-87e7-630c84580c1b",
   "metadata": {},
   "outputs": [
    {
     "data": {
      "text/plain": [
       "'Operação salva com Sucesso'"
      ]
     },
     "execution_count": 79,
     "metadata": {},
     "output_type": "execute_result"
    }
   ],
   "source": [
    "adicionar_produto(nome, preco, quantidade)"
   ]
  },
  {
   "cell_type": "code",
   "execution_count": 84,
   "id": "84db6691-1059-4ead-8ac6-ebe5410bf2f6",
   "metadata": {},
   "outputs": [
    {
     "data": {
      "text/plain": [
       "'Operação salva com Sucesso'"
      ]
     },
     "execution_count": 84,
     "metadata": {},
     "output_type": "execute_result"
    }
   ],
   "source": [
    "remover_produto(nome)"
   ]
  },
  {
   "cell_type": "code",
   "execution_count": 85,
   "id": "1824cd84-93fd-498a-b652-981245d3d288",
   "metadata": {},
   "outputs": [
    {
     "name": "stdout",
     "output_type": "stream",
     "text": [
      "nome: Camiseta\n",
      "preco: 20.0\n",
      "quantidade: 50\n",
      "\n",
      "nome: Calca Jeans\n",
      "preco: 50.0\n",
      "quantidade: 30\n",
      "\n",
      "nome: Tenis\n",
      "preco: 80.0\n",
      "quantidade: 20\n",
      "\n"
     ]
    }
   ],
   "source": [
    "data = open_json('produtos.json')\n",
    "\n",
    "for dados in data:\n",
    "    for chave, valor in dados.items():\n",
    "        print(f'{chave}: {valor}')\n",
    "    print()"
   ]
  }
 ],
 "metadata": {
  "kernelspec": {
   "display_name": "Python 3 (ipykernel)",
   "language": "python",
   "name": "python3"
  },
  "language_info": {
   "codemirror_mode": {
    "name": "ipython",
    "version": 3
   },
   "file_extension": ".py",
   "mimetype": "text/x-python",
   "name": "python",
   "nbconvert_exporter": "python",
   "pygments_lexer": "ipython3",
   "version": "3.10.9"
  }
 },
 "nbformat": 4,
 "nbformat_minor": 5
}
