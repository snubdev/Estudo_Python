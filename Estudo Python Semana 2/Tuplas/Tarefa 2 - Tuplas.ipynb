{
 "cells": [
  {
   "cell_type": "markdown",
   "id": "8773f8c7-6abd-4b2a-866f-148fdf128491",
   "metadata": {},
   "source": [
    "Exercício de Tuplas\n",
    "\n",
    "Considere que você está desenvolvendo um jogo de perguntas e respostas. Você tem uma lista de perguntas e uma lista correspondente de respostas, mas elas estão desordenadas. Sua tarefa é criar um programa que associe corretamente cada pergunta à sua resposta correspondente.\n",
    "\n",
    "perguntas = ('Qual é a capital do Brasil?', 'Quanto é 2 + 2?', 'Quem escreveu Dom Quixote?')\n",
    "respostas = ('Brasília', '4', 'Miguel de Cervantes')\n",
    "\n",
    "1. Associe cada pergunta à resposta correta\n",
    "2. imprima as perguntas com suas respostas correspondentes\n",
    "\n",
    "Desafio é criar um programa que associe corretamente cada pergunta à sua resposta correspondente usando tuplas. Tente criar uma lógica que faça essa associação independentemente da ordem em que as perguntas e respostas estão inicialmente dispostas. Ao final, imprima as perguntas com suas respostas correspondentes de forma ordenada."
   ]
  },
  {
   "cell_type": "code",
   "execution_count": null,
   "id": "af979cdf-071e-47da-9058-05b623331085",
   "metadata": {},
   "outputs": [],
   "source": [
    "perguntas = ('Qual é a capital do Brasil?', 'Quanto é 2 + 2?', 'Quem escreveu Dom Quixote?')\n",
    "respostas = ('Brasília', '4', 'Miguel de Cervantes')"
   ]
  },
  {
   "cell_type": "code",
   "execution_count": 1,
   "id": "a6fb3df1-d738-4578-b6fe-3b166240f77f",
   "metadata": {},
   "outputs": [],
   "source": [
    "perguntas = ('Qual é a capital do Brasil?', 'Quanto é 2 + 2?', 'Quem escreveu Dom Quixote?')\n",
    "respostas = ('Brasília', '4', 'Miguel de Cervantes')"
   ]
  },
  {
   "cell_type": "code",
   "execution_count": 18,
   "id": "9a4e37d1-eb09-48dc-af2d-b379854560b5",
   "metadata": {},
   "outputs": [
    {
     "name": "stdout",
     "output_type": "stream",
     "text": [
      "Qual é a capital do Brasil? Brasília\n",
      "Quanto é 2 + 2? 4\n",
      "Quem escreveu Dom Quixote? Miguel de Cervantes\n"
     ]
    }
   ],
   "source": [
    "if len(perguntas) == len(respostas):\n",
    "    for i in range(len(perguntas)):\n",
    "        print(f'{perguntas[i]} {respostas[i]}')"
   ]
  }
 ],
 "metadata": {
  "kernelspec": {
   "display_name": "Python 3 (ipykernel)",
   "language": "python",
   "name": "python3"
  },
  "language_info": {
   "codemirror_mode": {
    "name": "ipython",
    "version": 3
   },
   "file_extension": ".py",
   "mimetype": "text/x-python",
   "name": "python",
   "nbconvert_exporter": "python",
   "pygments_lexer": "ipython3",
   "version": "3.10.9"
  }
 },
 "nbformat": 4,
 "nbformat_minor": 5
}
