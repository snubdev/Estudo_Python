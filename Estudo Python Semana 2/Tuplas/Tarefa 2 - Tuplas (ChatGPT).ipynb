{
 "cells": [
  {
   "cell_type": "code",
   "execution_count": 7,
   "id": "bd77c54f-b6f6-4b86-befd-a4edd0cdede5",
   "metadata": {},
   "outputs": [],
   "source": [
    "perguntas = ('Qual é a capital do Brasil?', 'Quanto é 2 + 2?', 'Quem escreveu Dom Quixote?')\n",
    "respostas = ('Brasília', '4', 'Miguel de Cervantes')"
   ]
  },
  {
   "cell_type": "code",
   "execution_count": 8,
   "id": "22d56295-c330-4f61-9f7b-20dc968b1a55",
   "metadata": {},
   "outputs": [],
   "source": [
    "associacao = {}"
   ]
  },
  {
   "cell_type": "code",
   "execution_count": 9,
   "id": "978f35a2-6cf5-40dc-a81e-71bcee9b4a11",
   "metadata": {},
   "outputs": [],
   "source": [
    "for i in range(len(perguntas)):\n",
    "    associacao[perguntas[i]] = respostas[i]"
   ]
  },
  {
   "cell_type": "code",
   "execution_count": 10,
   "id": "cd2162eb-1d5f-4445-b9cd-0038961adbf6",
   "metadata": {},
   "outputs": [
    {
     "name": "stdout",
     "output_type": "stream",
     "text": [
      "Pergunta: Qual é a capital do Brasil? - Resposta: Brasília\n",
      "Pergunta: Quanto é 2 + 2? - Resposta: 4\n",
      "Pergunta: Quem escreveu Dom Quixote? - Resposta: Miguel de Cervantes\n"
     ]
    }
   ],
   "source": [
    "for pergunta, resposta in associacao.items():\n",
    "    print(f'Pergunta: {pergunta} - Resposta: {resposta}')"
   ]
  },
  {
   "cell_type": "code",
   "execution_count": null,
   "id": "dcbccf37-7c49-4f71-9f53-d2e49d02b42d",
   "metadata": {},
   "outputs": [],
   "source": []
  }
 ],
 "metadata": {
  "kernelspec": {
   "display_name": "Python 3 (ipykernel)",
   "language": "python",
   "name": "python3"
  },
  "language_info": {
   "codemirror_mode": {
    "name": "ipython",
    "version": 3
   },
   "file_extension": ".py",
   "mimetype": "text/x-python",
   "name": "python",
   "nbconvert_exporter": "python",
   "pygments_lexer": "ipython3",
   "version": "3.10.9"
  }
 },
 "nbformat": 4,
 "nbformat_minor": 5
}
