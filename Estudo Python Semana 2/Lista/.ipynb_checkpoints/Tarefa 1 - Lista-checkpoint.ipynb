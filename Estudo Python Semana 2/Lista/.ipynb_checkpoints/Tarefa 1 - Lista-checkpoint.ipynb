{
 "cells": [
  {
   "cell_type": "markdown",
   "id": "dedc5a18-37c4-401d-8d1d-5fabf92656e5",
   "metadata": {},
   "source": [
    "Exercício de Manipulação de Lista de Strings\n",
    "\n",
    "Considere a seguinte lista de nomes de cidades brasileiras:\n",
    "\n",
    "cidades = ['São Paulo', 'Rio de Janeiro', 'Salvador', 'Brasília', 'Fortaleza']\n",
    "\n",
    "1. Adicione duas cidades à lista cidades: 'Curitiba' e 'Recife'.\n",
    "2. Remova a cidade 'Salvador' da lista, caso exista.\n",
    "3. Verifique se 'Fortaleza' está presente na lista.\n",
    "4. Crie uma nova lista chamada cidades_ordenadas que contenha a lista cidades em ordem alfabética.\n",
    "5. Imprima a lista cidades atualizada, a presença ou ausência de 'Fortaleza', e a lista cidades_ordenadas."
   ]
  },
  {
   "cell_type": "code",
   "execution_count": 1,
   "id": "389db155-f4b0-417d-8e50-d8a4ef5cb815",
   "metadata": {},
   "outputs": [],
   "source": [
    "cidades = ['São Paulo', 'Rio de Janeiro', 'Salvador', 'Brasília', 'Fortaleza']"
   ]
  },
  {
   "cell_type": "code",
   "execution_count": 2,
   "id": "359b4d6a-4587-4953-ad99-101371d0ec78",
   "metadata": {},
   "outputs": [],
   "source": [
    "novas_cidades = ['Curitiba', 'Recife']"
   ]
  },
  {
   "cell_type": "code",
   "execution_count": 3,
   "id": "ba5ce7c6-de64-462e-9c64-4116365ae05f",
   "metadata": {},
   "outputs": [],
   "source": [
    "for cidade in novas_cidades:\n",
    "    cidades.append(cidade)"
   ]
  },
  {
   "cell_type": "code",
   "execution_count": 7,
   "id": "ef36b4a2-00c1-4a64-9e89-0e486ba57c4f",
   "metadata": {},
   "outputs": [
    {
     "name": "stdout",
     "output_type": "stream",
     "text": [
      "Cidade Removida\n"
     ]
    }
   ],
   "source": [
    "cidade_removida = 'Salvador'\n",
    "if cidade_removida in cidades:\n",
    "    cidades.remove(cidade_removida)\n",
    "    print('Cidade Removida')\n",
    "else:\n",
    "    print('Essa cidade não existe na lista')"
   ]
  },
  {
   "cell_type": "code",
   "execution_count": 32,
   "id": "c2a6889a-a16b-4915-9d35-c874e0683b26",
   "metadata": {},
   "outputs": [],
   "source": [
    "def verificador_cidade(cidade):\n",
    "    if cidade in cidades:\n",
    "        mensagem = f'Cidade {cidade} está na lista'\n",
    "    else:\n",
    "        mensagem = f'Cidade {cidade} não está na lista'\n",
    "    return mensagem"
   ]
  },
  {
   "cell_type": "code",
   "execution_count": 28,
   "id": "14cddd6e-d49f-469b-8004-09374ad10b96",
   "metadata": {},
   "outputs": [],
   "source": [
    "cidades_ordenadas = sorted(cidades)"
   ]
  },
  {
   "cell_type": "code",
   "execution_count": 33,
   "id": "05cb3c2f-fb8b-482e-bb13-1576151fb7f2",
   "metadata": {},
   "outputs": [
    {
     "name": "stdout",
     "output_type": "stream",
     "text": [
      "Lista de cidades: ['Brasília', 'Curitiba', 'Fortaleza', 'Recife', 'Rio de Janeiro', 'São Paulo']\n",
      "Fortaleza está presente na lista? Cidade Fortaleza está na lista\n",
      "Lista de cidades ordenada: ['Brasília', 'Curitiba', 'Fortaleza', 'Recife', 'Rio de Janeiro', 'São Paulo']\n"
     ]
    }
   ],
   "source": [
    "print(\"Lista de cidades:\", cidades)\n",
    "print(\"Fortaleza está presente na lista?\", verificador_cidade('Fortaleza'))\n",
    "print(\"Lista de cidades ordenada:\", cidades_ordenadas)"
   ]
  }
 ],
 "metadata": {
  "kernelspec": {
   "display_name": "Python 3 (ipykernel)",
   "language": "python",
   "name": "python3"
  },
  "language_info": {
   "codemirror_mode": {
    "name": "ipython",
    "version": 3
   },
   "file_extension": ".py",
   "mimetype": "text/x-python",
   "name": "python",
   "nbconvert_exporter": "python",
   "pygments_lexer": "ipython3",
   "version": "3.10.9"
  }
 },
 "nbformat": 4,
 "nbformat_minor": 5
}
